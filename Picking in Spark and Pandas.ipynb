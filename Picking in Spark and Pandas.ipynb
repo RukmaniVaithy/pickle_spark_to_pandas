{
 "cells": [
  {
   "cell_type": "code",
   "execution_count": 1,
   "id": "d7c96dec",
   "metadata": {},
   "outputs": [],
   "source": [
    "import pandas as pd\n",
    "import sparkpickle"
   ]
  },
  {
   "cell_type": "markdown",
   "id": "5445bbf8",
   "metadata": {},
   "source": [
    "### Load CSV file as spark dataframe\n",
    "Note: books.csv is in HDFS"
   ]
  },
  {
   "cell_type": "code",
   "execution_count": 5,
   "id": "d02dce85",
   "metadata": {},
   "outputs": [],
   "source": [
    "df_csv = spark.read.csv(\"books.csv\", header=\"True\")"
   ]
  },
  {
   "cell_type": "code",
   "execution_count": 6,
   "id": "f915e384",
   "metadata": {},
   "outputs": [
    {
     "data": {
      "text/plain": [
       "[('bookID', 'string'),\n",
       " ('title', 'string'),\n",
       " ('authors', 'string'),\n",
       " ('average_rating', 'string'),\n",
       " ('isbn', 'string'),\n",
       " ('isbn13', 'string'),\n",
       " ('language_code', 'string'),\n",
       " ('  num_pages', 'string'),\n",
       " ('ratings_count', 'string'),\n",
       " ('text_reviews_count', 'string'),\n",
       " ('publication_date', 'string'),\n",
       " ('publisher', 'string')]"
      ]
     },
     "execution_count": 6,
     "metadata": {},
     "output_type": "execute_result"
    }
   ],
   "source": [
    "df_csv.dtypes"
   ]
  },
  {
   "cell_type": "code",
   "execution_count": 7,
   "id": "74434706",
   "metadata": {},
   "outputs": [
    {
     "data": {
      "text/plain": [
       "11127"
      ]
     },
     "execution_count": 7,
     "metadata": {},
     "output_type": "execute_result"
    }
   ],
   "source": [
    "df_csv.count()"
   ]
  },
  {
   "cell_type": "code",
   "execution_count": 4,
   "id": "553a9c04",
   "metadata": {},
   "outputs": [
    {
     "data": {
      "text/html": [
       "\n",
       "            <div>\n",
       "                <p><b>SparkSession - hive</b></p>\n",
       "                \n",
       "        <div>\n",
       "            <p><b>SparkContext</b></p>\n",
       "\n",
       "            <p><a href=\"http://192.168.1.26:4041\">Spark UI</a></p>\n",
       "\n",
       "            <dl>\n",
       "              <dt>Version</dt>\n",
       "                <dd><code>v3.0.1</code></dd>\n",
       "              <dt>Master</dt>\n",
       "                <dd><code>local[*]</code></dd>\n",
       "              <dt>AppName</dt>\n",
       "                <dd><code>PySparkShell</code></dd>\n",
       "            </dl>\n",
       "        </div>\n",
       "        \n",
       "            </div>\n",
       "        "
      ],
      "text/plain": [
       "<pyspark.sql.session.SparkSession at 0x1112de940>"
      ]
     },
     "execution_count": 4,
     "metadata": {},
     "output_type": "execute_result"
    }
   ],
   "source": [
    "spark"
   ]
  },
  {
   "cell_type": "markdown",
   "id": "33bd7b5e",
   "metadata": {},
   "source": [
    "### Convert Spark Dataframe to Pickled File\n",
    "Note: \n",
    "\n",
    "- This operation works only with RDD and resource intensive.\n",
    "- Pickled files are currenty stored locally and not in HDFS.\n"
   ]
  },
  {
   "cell_type": "code",
   "execution_count": 8,
   "id": "bc01c2e5",
   "metadata": {},
   "outputs": [],
   "source": [
    "df_csv.rdd.saveAsPickleFile(r\"file:///Users//ruksvaithy//projects//python_titbits//pickling//pickled_file//\")"
   ]
  },
  {
   "cell_type": "markdown",
   "id": "6efbc88c",
   "metadata": {},
   "source": [
    "### View the Pickled File"
   ]
  },
  {
   "cell_type": "code",
   "execution_count": 14,
   "id": "9c35b3d6",
   "metadata": {},
   "outputs": [
    {
     "name": "stdout",
     "output_type": "stream",
     "text": [
      "total 4048\r\n",
      "-rw-r--r--  1 ruksvaithy  staff     0B Jul 17 16:01 _SUCCESS\r\n",
      "-rw-r--r--  1 ruksvaithy  staff   2.0M Jul 17 16:01 part-00000\r\n"
     ]
    }
   ],
   "source": [
    "! ls -lh pickled_file/"
   ]
  },
  {
   "cell_type": "code",
   "execution_count": 21,
   "id": "45859ed7",
   "metadata": {},
   "outputs": [
    {
     "name": "stdout",
     "output_type": "stream",
     "text": [
      "SEQ\u0006!org.apache.hadoop.io.NullWritable\"org.apache.hadoop.io.BytesWritable\u0000\u0000\u0000\u0000\u0000\u0000����\u000e�Au����\u0004�F�\u0000\u0000L7\u0000\u0000\u0000\u0000\u0000\u0000L3��\u0000\u0005ur\u0000\u0003[[BK�\u0019\u0015gg�7\u0002\u0000\u0000xp\u0000\u0000\u0000\r\n",
      "ur\u0000\u0002[B��\u0017�\u0006\bT�\u0002\u0000\u0000xp\u0000\u0000\r\n",
      "\u0017�\u0004�\f",
      "\r\n",
      "\u0000\u0000\u0000\u0000\u0000\u0000]�(�\u0011pyspark.sql.types��\u000b",
      "_create_row���]�(�\u0006bookID��\u0005title��\u0007authors��\u000eaverage_rating��\u0004isbn��\u0006isbn13��\r",
      "language_code��\u000b",
      "  num_pages��\r",
      "ratings_count��\u0012text_reviews_count��\u0010publication_date��\tpublisher�e(�\u00011��9Harry Potter and the Half-Blood Prince (Harry Potter  #6)��\u001bJ.K. Rowling/Mary GrandPré��\u00044.57��\r\n",
      "0439785960��\r",
      "9780439785969��\u0003eng��\u0003652��\u00072095690��\u000527591��\t9/16/2006��\u000fScholastic Inc.�t���R�h\u0003]�(�\u0006bookID��\u0005title��\u0007authors��\u000eaverage_rating��\u0004isbn��\u0006isbn13��\r",
      "language_code��\u000b",
      "  num_pages��\r",
      "ratings_count��\u0012text_reviews_count��\u0010publication_date��\tpublisher�e(�\u00012��<Harry Potter and the Order of the Phoenix (Harry Potter  #5)��\u001bJ.K. Rowling/Mary GrandPré��\u00044.49��\r\n",
      "0439358078��\r",
      "9780439358071��\u0003eng��\u0003870��\u00072153167��\u000529221��\b9/1/2004��\u000fScholastic Inc.�t���R�h\u0003h (�\u00014��:Harry Potter and the Chamber of Secrets (Harry Potter  #2)��\f",
      "J.K. Rowling��\u00044.42��\r\n",
      "0439554896��\r",
      "9780439554893�h3�\u0003352��\u00046333��\u0003244��\t11/1/2003��\r\n",
      "Scholastic�t���R�h\u0003]�(�\u0006bookID��\u0005title��\u0007authors��\u000eaverage_rating��\u0004isbn��\u0006isbn13��\r",
      "language_code��\u000b",
      "  num_pages��\r",
      "ratings_count��\u0012text_reviews_count��\u0010publication_date��\tpublisher�e(�\u00015��;Harry Potter and the Prisoner of Azkaban (Harry Potter  #3)��\u001bJ.K. Rowling/Mary GrandPré��\u00044.56��\r\n",
      "043965548X��\r",
      "9780439655484��\u0003eng��\u0003435��\u00072339585��\u000536325��\b5/1/2004��\u000fScholastic Inc.�t���R�h\u0003hJ(�\u00018��6Harry Potter Boxed Set  Books 1-5 (Harry Potter  #1-5)�hY�\u00044.78��\r\n",
      "0439682584��\r",
      "9780439682589�h]�\u00042690��\u000541428��\u0003164��\t9/13/2004��\r\n"
     ]
    }
   ],
   "source": [
    "! head -n 10 pickled_file/part-00000"
   ]
  },
  {
   "cell_type": "markdown",
   "id": "edb4d081",
   "metadata": {},
   "source": [
    "### Convert Pickled file to Pandas Dataframe\n",
    "Note: This will **FAIL** as the spark's pickled is not compatible with pandas dataframe's read_pickle"
   ]
  },
  {
   "cell_type": "code",
   "execution_count": null,
   "id": "09255e06",
   "metadata": {},
   "outputs": [],
   "source": [
    "pd_df_from_pickle = pd.read_pickle(r\"file:///Users//ruksvaithy//projects//python_titbits//pickling//pickled_file//*\")"
   ]
  },
  {
   "cell_type": "markdown",
   "id": "1af9ef8f",
   "metadata": {},
   "source": [
    "### Workaround: To use `sparkpickle` python library\n",
    "- Allows accessing spark's dataframe object from a non-spark environment\n",
    "- Pickled file has to be read as bytes object.\n",
    "- Supports three operation - load, loads, load_gen\n",
    "- load_gen yields a generator object to be converted into pandas dataframe.\n"
   ]
  },
  {
   "cell_type": "code",
   "execution_count": 41,
   "id": "89a76b19",
   "metadata": {},
   "outputs": [],
   "source": [
    "row_list = []\n",
    "with open(\"./pickled_file/part-00000\",\"rb\") as pkl_file:\n",
    "    for obj in sparkpickle.load_gen(pkl_file):\n",
    "        row_list.append(obj)"
   ]
  },
  {
   "cell_type": "code",
   "execution_count": 54,
   "id": "9145f31c",
   "metadata": {},
   "outputs": [
    {
     "data": {
      "text/html": [
       "<div>\n",
       "<style scoped>\n",
       "    .dataframe tbody tr th:only-of-type {\n",
       "        vertical-align: middle;\n",
       "    }\n",
       "\n",
       "    .dataframe tbody tr th {\n",
       "        vertical-align: top;\n",
       "    }\n",
       "\n",
       "    .dataframe thead th {\n",
       "        text-align: right;\n",
       "    }\n",
       "</style>\n",
       "<table border=\"1\" class=\"dataframe\">\n",
       "  <thead>\n",
       "    <tr style=\"text-align: right;\">\n",
       "      <th></th>\n",
       "      <th>bookID</th>\n",
       "      <th>title</th>\n",
       "      <th>authors</th>\n",
       "      <th>average_rating</th>\n",
       "      <th>isbn</th>\n",
       "      <th>isbn13</th>\n",
       "      <th>language_code</th>\n",
       "      <th>num_pages</th>\n",
       "      <th>ratings_count</th>\n",
       "      <th>text_reviews_count</th>\n",
       "      <th>publication_date</th>\n",
       "      <th>publisher</th>\n",
       "    </tr>\n",
       "  </thead>\n",
       "  <tbody>\n",
       "    <tr>\n",
       "      <th>0</th>\n",
       "      <td>1</td>\n",
       "      <td>Harry Potter and the Half-Blood Prince (Harry ...</td>\n",
       "      <td>J.K. Rowling/Mary GrandPré</td>\n",
       "      <td>4.57</td>\n",
       "      <td>0439785960</td>\n",
       "      <td>9780439785969</td>\n",
       "      <td>eng</td>\n",
       "      <td>652</td>\n",
       "      <td>2095690</td>\n",
       "      <td>27591</td>\n",
       "      <td>9/16/2006</td>\n",
       "      <td>Scholastic Inc.</td>\n",
       "    </tr>\n",
       "    <tr>\n",
       "      <th>1</th>\n",
       "      <td>2</td>\n",
       "      <td>Harry Potter and the Order of the Phoenix (Har...</td>\n",
       "      <td>J.K. Rowling/Mary GrandPré</td>\n",
       "      <td>4.49</td>\n",
       "      <td>0439358078</td>\n",
       "      <td>9780439358071</td>\n",
       "      <td>eng</td>\n",
       "      <td>870</td>\n",
       "      <td>2153167</td>\n",
       "      <td>29221</td>\n",
       "      <td>9/1/2004</td>\n",
       "      <td>Scholastic Inc.</td>\n",
       "    </tr>\n",
       "    <tr>\n",
       "      <th>2</th>\n",
       "      <td>4</td>\n",
       "      <td>Harry Potter and the Chamber of Secrets (Harry...</td>\n",
       "      <td>J.K. Rowling</td>\n",
       "      <td>4.42</td>\n",
       "      <td>0439554896</td>\n",
       "      <td>9780439554893</td>\n",
       "      <td>eng</td>\n",
       "      <td>352</td>\n",
       "      <td>6333</td>\n",
       "      <td>244</td>\n",
       "      <td>11/1/2003</td>\n",
       "      <td>Scholastic</td>\n",
       "    </tr>\n",
       "    <tr>\n",
       "      <th>3</th>\n",
       "      <td>5</td>\n",
       "      <td>Harry Potter and the Prisoner of Azkaban (Harr...</td>\n",
       "      <td>J.K. Rowling/Mary GrandPré</td>\n",
       "      <td>4.56</td>\n",
       "      <td>043965548X</td>\n",
       "      <td>9780439655484</td>\n",
       "      <td>eng</td>\n",
       "      <td>435</td>\n",
       "      <td>2339585</td>\n",
       "      <td>36325</td>\n",
       "      <td>5/1/2004</td>\n",
       "      <td>Scholastic Inc.</td>\n",
       "    </tr>\n",
       "    <tr>\n",
       "      <th>4</th>\n",
       "      <td>8</td>\n",
       "      <td>Harry Potter Boxed Set  Books 1-5 (Harry Potte...</td>\n",
       "      <td>J.K. Rowling/Mary GrandPré</td>\n",
       "      <td>4.78</td>\n",
       "      <td>0439682584</td>\n",
       "      <td>9780439682589</td>\n",
       "      <td>eng</td>\n",
       "      <td>2690</td>\n",
       "      <td>41428</td>\n",
       "      <td>164</td>\n",
       "      <td>9/13/2004</td>\n",
       "      <td>Scholastic</td>\n",
       "    </tr>\n",
       "    <tr>\n",
       "      <th>...</th>\n",
       "      <td>...</td>\n",
       "      <td>...</td>\n",
       "      <td>...</td>\n",
       "      <td>...</td>\n",
       "      <td>...</td>\n",
       "      <td>...</td>\n",
       "      <td>...</td>\n",
       "      <td>...</td>\n",
       "      <td>...</td>\n",
       "      <td>...</td>\n",
       "      <td>...</td>\n",
       "      <td>...</td>\n",
       "    </tr>\n",
       "    <tr>\n",
       "      <th>11122</th>\n",
       "      <td>45631</td>\n",
       "      <td>Expelled from Eden: A William T. Vollmann Reader</td>\n",
       "      <td>William T. Vollmann/Larry McCaffery/Michael He...</td>\n",
       "      <td>4.06</td>\n",
       "      <td>1560254416</td>\n",
       "      <td>9781560254416</td>\n",
       "      <td>eng</td>\n",
       "      <td>512</td>\n",
       "      <td>156</td>\n",
       "      <td>20</td>\n",
       "      <td>12/21/2004</td>\n",
       "      <td>Da Capo Press</td>\n",
       "    </tr>\n",
       "    <tr>\n",
       "      <th>11123</th>\n",
       "      <td>45633</td>\n",
       "      <td>You Bright and Risen Angels</td>\n",
       "      <td>William T. Vollmann</td>\n",
       "      <td>4.08</td>\n",
       "      <td>0140110879</td>\n",
       "      <td>9780140110876</td>\n",
       "      <td>eng</td>\n",
       "      <td>635</td>\n",
       "      <td>783</td>\n",
       "      <td>56</td>\n",
       "      <td>12/1/1988</td>\n",
       "      <td>Penguin Books</td>\n",
       "    </tr>\n",
       "    <tr>\n",
       "      <th>11124</th>\n",
       "      <td>45634</td>\n",
       "      <td>The Ice-Shirt (Seven Dreams #1)</td>\n",
       "      <td>William T. Vollmann</td>\n",
       "      <td>3.96</td>\n",
       "      <td>0140131965</td>\n",
       "      <td>9780140131963</td>\n",
       "      <td>eng</td>\n",
       "      <td>415</td>\n",
       "      <td>820</td>\n",
       "      <td>95</td>\n",
       "      <td>8/1/1993</td>\n",
       "      <td>Penguin Books</td>\n",
       "    </tr>\n",
       "    <tr>\n",
       "      <th>11125</th>\n",
       "      <td>45639</td>\n",
       "      <td>Poor People</td>\n",
       "      <td>William T. Vollmann</td>\n",
       "      <td>3.72</td>\n",
       "      <td>0060878827</td>\n",
       "      <td>9780060878825</td>\n",
       "      <td>eng</td>\n",
       "      <td>434</td>\n",
       "      <td>769</td>\n",
       "      <td>139</td>\n",
       "      <td>2/27/2007</td>\n",
       "      <td>Ecco</td>\n",
       "    </tr>\n",
       "    <tr>\n",
       "      <th>11126</th>\n",
       "      <td>45641</td>\n",
       "      <td>Las aventuras de Tom Sawyer</td>\n",
       "      <td>Mark Twain</td>\n",
       "      <td>3.91</td>\n",
       "      <td>8497646983</td>\n",
       "      <td>9788497646987</td>\n",
       "      <td>spa</td>\n",
       "      <td>272</td>\n",
       "      <td>113</td>\n",
       "      <td>12</td>\n",
       "      <td>5/28/2006</td>\n",
       "      <td>Edimat Libros</td>\n",
       "    </tr>\n",
       "  </tbody>\n",
       "</table>\n",
       "<p>11127 rows × 12 columns</p>\n",
       "</div>"
      ],
      "text/plain": [
       "      bookID                                              title  \\\n",
       "0          1  Harry Potter and the Half-Blood Prince (Harry ...   \n",
       "1          2  Harry Potter and the Order of the Phoenix (Har...   \n",
       "2          4  Harry Potter and the Chamber of Secrets (Harry...   \n",
       "3          5  Harry Potter and the Prisoner of Azkaban (Harr...   \n",
       "4          8  Harry Potter Boxed Set  Books 1-5 (Harry Potte...   \n",
       "...      ...                                                ...   \n",
       "11122  45631   Expelled from Eden: A William T. Vollmann Reader   \n",
       "11123  45633                        You Bright and Risen Angels   \n",
       "11124  45634                    The Ice-Shirt (Seven Dreams #1)   \n",
       "11125  45639                                        Poor People   \n",
       "11126  45641                        Las aventuras de Tom Sawyer   \n",
       "\n",
       "                                                 authors average_rating  \\\n",
       "0                             J.K. Rowling/Mary GrandPré           4.57   \n",
       "1                             J.K. Rowling/Mary GrandPré           4.49   \n",
       "2                                           J.K. Rowling           4.42   \n",
       "3                             J.K. Rowling/Mary GrandPré           4.56   \n",
       "4                             J.K. Rowling/Mary GrandPré           4.78   \n",
       "...                                                  ...            ...   \n",
       "11122  William T. Vollmann/Larry McCaffery/Michael He...           4.06   \n",
       "11123                                William T. Vollmann           4.08   \n",
       "11124                                William T. Vollmann           3.96   \n",
       "11125                                William T. Vollmann           3.72   \n",
       "11126                                         Mark Twain           3.91   \n",
       "\n",
       "             isbn         isbn13 language_code   num_pages ratings_count  \\\n",
       "0      0439785960  9780439785969           eng         652       2095690   \n",
       "1      0439358078  9780439358071           eng         870       2153167   \n",
       "2      0439554896  9780439554893           eng         352          6333   \n",
       "3      043965548X  9780439655484           eng         435       2339585   \n",
       "4      0439682584  9780439682589           eng        2690         41428   \n",
       "...           ...            ...           ...         ...           ...   \n",
       "11122  1560254416  9781560254416           eng         512           156   \n",
       "11123  0140110879  9780140110876           eng         635           783   \n",
       "11124  0140131965  9780140131963           eng         415           820   \n",
       "11125  0060878827  9780060878825           eng         434           769   \n",
       "11126  8497646983  9788497646987           spa         272           113   \n",
       "\n",
       "      text_reviews_count publication_date        publisher  \n",
       "0                  27591        9/16/2006  Scholastic Inc.  \n",
       "1                  29221         9/1/2004  Scholastic Inc.  \n",
       "2                    244        11/1/2003       Scholastic  \n",
       "3                  36325         5/1/2004  Scholastic Inc.  \n",
       "4                    164        9/13/2004       Scholastic  \n",
       "...                  ...              ...              ...  \n",
       "11122                 20       12/21/2004    Da Capo Press  \n",
       "11123                 56        12/1/1988    Penguin Books  \n",
       "11124                 95         8/1/1993    Penguin Books  \n",
       "11125                139        2/27/2007             Ecco  \n",
       "11126                 12        5/28/2006    Edimat Libros  \n",
       "\n",
       "[11127 rows x 12 columns]"
      ]
     },
     "execution_count": 54,
     "metadata": {},
     "output_type": "execute_result"
    }
   ],
   "source": [
    "pd.DataFrame(row_list, columns= obj.__fields__)"
   ]
  }
 ],
 "metadata": {
  "kernelspec": {
   "display_name": "Python 3",
   "language": "python",
   "name": "python3"
  },
  "language_info": {
   "codemirror_mode": {
    "name": "ipython",
    "version": 3
   },
   "file_extension": ".py",
   "mimetype": "text/x-python",
   "name": "python",
   "nbconvert_exporter": "python",
   "pygments_lexer": "ipython3",
   "version": "3.6.10"
  }
 },
 "nbformat": 4,
 "nbformat_minor": 5
}
